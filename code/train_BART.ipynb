{
  "nbformat": 4,
  "nbformat_minor": 0,
  "metadata": {
    "colab": {
      "name": "train_BART.ipynb",
      "provenance": [],
      "collapsed_sections": [],
      "toc_visible": true,
      "mount_file_id": "1RKWut12K6SLkF3S8NDLAGcYyHlqGD06W",
      "authorship_tag": "ABX9TyPTFVQFKpEkZQeHuQlX7/n5"
    },
    "kernelspec": {
      "name": "python3",
      "display_name": "Python 3"
    },
    "language_info": {
      "name": "python"
    },
    "widgets": {
      "application/vnd.jupyter.widget-state+json": {}
    }
  },
  "cells": [
    {
      "cell_type": "code",
      "execution_count": 3,
      "metadata": {
        "id": "mET3ZO70X0GT"
      },
      "outputs": [],
      "source": [
        "import numpy as np\n",
        "import pandas as pd\n",
        "from tqdm import tqdm, trange\n",
        "import time\n",
        "\n",
        "import torch\n",
        "from torch.cuda import amp\n",
        "from torch.utils.data import Dataset, DataLoader\n",
        "import gc\n",
        "\n",
        "from transformers import BartForConditionalGeneration,AutoTokenizer, BartConfig\n",
        "from transformers.optimization import AdamW, get_cosine_schedule_with_warmup\n",
        "\n",
        "from dataset import KoBARTSummaryDataset"
      ]
    },
    {
      "cell_type": "code",
      "source": [
        "data_path='/content/drive/MyDrive/Dacon/한국어 생성요약/data/235813_AI 기반 회의 녹취록 요약 경진대회_data/'\n",
        "model_path='/content/drive/MyDrive/Dacon/한국어 생성요약/LG_model/'\n",
        "sub_path='/content/drive/MyDrive/Dacon/한국어 생성요약/LG_sub/'"
      ],
      "metadata": {
        "id": "orwflJvmb8vY"
      },
      "execution_count": 4,
      "outputs": []
    },
    {
      "cell_type": "markdown",
      "source": [
        "# Train"
      ],
      "metadata": {
        "id": "pZ8-6eB0f4kw"
      }
    },
    {
      "cell_type": "code",
      "metadata": {
        "id": "uOWO8-9IeQik"
      },
      "source": [
        "tokenizer=AutoTokenizer.from_pretrained(\"hyunwoongko/kobart\")\n",
        "\n",
        "args={}\n",
        "args['train_path']=data_path+'train_evi_concat_final.csv'\n",
        "args['test_path']=data_path+'test_evi_final.csv'\n",
        "args['weight_path']=model_path\n",
        "args['max_len']=1024\n",
        "args['batch_size']=4\n",
        "args['num_workers']=2\n",
        "args['max_epochs']=2"
      ],
      "execution_count": 8,
      "outputs": []
    },
    {
      "cell_type": "code",
      "metadata": {
        "colab": {
          "base_uri": "https://localhost:8080/"
        },
        "id": "7KQfkEMwgen1",
        "outputId": "e1a9960a-8d2a-4847-99c2-573f405b234c"
      },
      "source": [
        "train_data = KoBARTSummaryDataset(args['train_path'],tok=AutoTokenizer.from_pretrained(\"hyunwoongko/kobart\"),max_len=args['max_len'])\n",
        "\n",
        "train_dataloader = DataLoader(train_data,\n",
        "                              batch_size=args['batch_size'], \n",
        "                              shuffle=True,\n",
        "                              num_workers=args['num_workers'], \n",
        "                              pin_memory=True)\n",
        "\n",
        "device = \"cuda\" if torch.cuda.is_available() else \"cpu\"\n",
        "print(device)"
      ],
      "execution_count": 6,
      "outputs": [
        {
          "output_type": "stream",
          "name": "stdout",
          "text": [
            "cpu\n"
          ]
        }
      ]
    },
    {
      "cell_type": "code",
      "source": [
        "next(iter(train_data))"
      ],
      "metadata": {
        "colab": {
          "base_uri": "https://localhost:8080/"
        },
        "id": "IBbrQbJ6czwR",
        "outputId": "a0154a4e-4f1d-4c7e-d5fe-3148c1d1452f"
      },
      "execution_count": 7,
      "outputs": [
        {
          "output_type": "execute_result",
          "data": {
            "text/plain": [
              "{'attention_mask': tensor([1, 1, 1,  ..., 0, 0, 0], dtype=torch.int32),\n",
              " 'decoder_attention_mask': tensor([1, 1, 1, 1, 1, 1, 1, 1, 1, 1, 1, 1, 1, 1, 1, 1, 1, 1, 0, 0, 0, 0, 0, 0,\n",
              "         0, 0, 0, 0, 0, 0, 0, 0, 0, 0, 0, 0, 0, 0, 0, 0, 0, 0, 0, 0, 0, 0, 0, 0,\n",
              "         0, 0, 0, 0, 0, 0, 0, 0, 0, 0, 0, 0, 0, 0, 0, 0, 0, 0, 0, 0, 0, 0, 0, 0,\n",
              "         0, 0, 0, 0, 0, 0, 0, 0, 0, 0, 0, 0, 0, 0, 0, 0, 0, 0, 0, 0, 0, 0, 0, 0,\n",
              "         0, 0, 0, 0, 0, 0, 0, 0, 0, 0, 0, 0, 0, 0, 0, 0, 0, 0, 0, 0, 0, 0, 0, 0,\n",
              "         0, 0, 0, 0, 0, 0, 0, 0, 0, 0, 0, 0, 0, 0, 0, 0, 0, 0, 0, 0, 0, 0, 0, 0,\n",
              "         0, 0, 0, 0, 0, 0], dtype=torch.int32),\n",
              " 'decoder_input_ids': tensor([    0, 12147, 14745,   254, 13737, 14480, 12258, 16810, 13737, 17711,\n",
              "         13737, 15953, 12612, 24124, 17896, 23129,   245,     1,     3,     3,\n",
              "             3,     3,     3,     3,     3,     3,     3,     3,     3,     3,\n",
              "             3,     3,     3,     3,     3,     3,     3,     3,     3,     3,\n",
              "             3,     3,     3,     3,     3,     3,     3,     3,     3,     3,\n",
              "             3,     3,     3,     3,     3,     3,     3,     3,     3,     3,\n",
              "             3,     3,     3,     3,     3,     3,     3,     3,     3,     3,\n",
              "             3,     3,     3,     3,     3,     3,     3,     3,     3,     3,\n",
              "             3,     3,     3,     3,     3,     3,     3,     3,     3,     3,\n",
              "             3,     3,     3,     3,     3,     3,     3,     3,     3,     3,\n",
              "             3,     3,     3,     3,     3,     3,     3,     3,     3,     3,\n",
              "             3,     3,     3,     3,     3,     3,     3,     3,     3,     3,\n",
              "             3,     3,     3,     3,     3,     3,     3,     3,     3,     3,\n",
              "             3,     3,     3,     3,     3,     3,     3,     3,     3,     3,\n",
              "             3,     3,     3,     3,     3,     3,     3,     3,     3,     3]),\n",
              " 'input_ids': tensor([    0, 12147, 14745,  ...,     3,     3,     3]),\n",
              " 'labels': tensor([12147, 14745,   254, 13737, 14480, 12258, 16810, 13737, 17711, 13737,\n",
              "         15953, 12612, 24124, 17896, 23129,   245,     1,  -100,  -100,  -100,\n",
              "          -100,  -100,  -100,  -100,  -100,  -100,  -100,  -100,  -100,  -100,\n",
              "          -100,  -100,  -100,  -100,  -100,  -100,  -100,  -100,  -100,  -100,\n",
              "          -100,  -100,  -100,  -100,  -100,  -100,  -100,  -100,  -100,  -100,\n",
              "          -100,  -100,  -100,  -100,  -100,  -100,  -100,  -100,  -100,  -100,\n",
              "          -100,  -100,  -100,  -100,  -100,  -100,  -100,  -100,  -100,  -100,\n",
              "          -100,  -100,  -100,  -100,  -100,  -100,  -100,  -100,  -100,  -100,\n",
              "          -100,  -100,  -100,  -100,  -100,  -100,  -100,  -100,  -100,  -100,\n",
              "          -100,  -100,  -100,  -100,  -100,  -100,  -100,  -100,  -100,  -100,\n",
              "          -100,  -100,  -100,  -100,  -100,  -100,  -100,  -100,  -100,  -100,\n",
              "          -100,  -100,  -100,  -100,  -100,  -100,  -100,  -100,  -100,  -100,\n",
              "          -100,  -100,  -100,  -100,  -100,  -100,  -100,  -100,  -100,  -100,\n",
              "          -100,  -100,  -100,  -100,  -100,  -100,  -100,  -100,  -100,  -100,\n",
              "          -100,  -100,  -100,  -100,  -100,  -100,  -100,  -100,  -100,  -100])}"
            ]
          },
          "metadata": {},
          "execution_count": 7
        }
      ]
    },
    {
      "cell_type": "code",
      "metadata": {
        "colab": {
          "base_uri": "https://localhost:8080/",
          "height": 157,
          "referenced_widgets": [
            "41b3f8cdb1694754ba1892f9be08d361",
            "ce6e2e1660d948028aa95f3139f7d117",
            "1437fc168b234a8daa7713149328bb58",
            "a97370c3e150411ca4cb3dd0aaaf0ad1",
            "06bb87ad0909414dbb0af553f46f1b00",
            "67550e2bf44d45bfa7ef0ca0c161af89",
            "6747e5f3b4784ecea1803bdb34030120",
            "1e663acf6f2d4b40be4fd919406bebcc",
            "705c5a842a8147a284bed4656eecd5f9",
            "877788699ba6409b9880f72429fa9391",
            "1aa2cb23c1d246d7b8ca2a10fc6af7ec"
          ]
        },
        "id": "o6_2cQxThWfG",
        "outputId": "f6aab515-6755-4c43-af66-4894e1db6106"
      },
      "source": [
        "model=BartForConditionalGeneration.from_pretrained(\"hyunwoongko/kobart\").to(device)\n",
        "\n",
        "\n",
        "optimizer = AdamW(model.parameters(),lr=2e-5, weight_decay=1e-4,correct_bias=False)\n",
        "scaler = amp.GradScaler()\n",
        "\n",
        "\n",
        "for epoch_i in range(0, args['max_epochs']):\n",
        "  \n",
        "  # ========================================\n",
        "  #               Training\n",
        "  # ========================================\n",
        "\n",
        "  print(\"\")\n",
        "  print('======== Epoch {:} / {:} ========'.format(epoch_i + 1, args['max_epochs']))\n",
        "  model.train()\n",
        "  t0 = time.time()\n",
        "  total_train_loss = 0\n",
        "  total_batch=len(train_dataloader)\n",
        "\n",
        "  for i, batch in enumerate(train_dataloader):\n",
        "    input_ids = batch['input_ids'].to(device)\n",
        "    attention_mask = batch['attention_mask'].to(device)\n",
        "    decoder_input_ids = batch['decoder_input_ids'].to(device)\n",
        "    decoder_attention_mask = batch['decoder_attention_mask'].to(device)\n",
        "    labels = batch['labels'].to(device)\n",
        "    \n",
        "    optimizer.zero_grad()\n",
        "\n",
        "    with amp.autocast():\n",
        "      loss = model(input_ids=input_ids,\n",
        "                   attention_mask=attention_mask,\n",
        "                   decoder_input_ids=decoder_input_ids,\n",
        "                   decoder_attention_mask=decoder_attention_mask,\n",
        "                   labels=labels)[0]\n",
        "      \n",
        "    total_train_loss += loss.item()\n",
        "\n",
        "    scaler.scale(loss).backward()\n",
        "    scaler.step(optimizer)\n",
        "    scaler.update()\n",
        "      \n",
        "    training_time = time.time() - t0\n",
        "\n",
        "    print(f\"\\rTotal Batch {i+1}/{total_batch} , elapsed time : {training_time/(i+1):.1f}s , train_loss : {total_train_loss/(i+1):.2f}\", end='')\n",
        "  print(\"\")\n",
        "\n",
        "  model.save_pretrained(os.path.join(args['weight_path'], \"kobart_title_evi_concat_final_epoch_{}\".format(epoch_i+1)))"
      ],
      "execution_count": null,
      "outputs": [
        {
          "output_type": "display_data",
          "data": {
            "application/vnd.jupyter.widget-view+json": {
              "model_id": "41b3f8cdb1694754ba1892f9be08d361",
              "version_minor": 0,
              "version_major": 2
            },
            "text/plain": [
              "Downloading:   0%|          | 0.00/473M [00:00<?, ?B/s]"
            ]
          },
          "metadata": {}
        },
        {
          "output_type": "stream",
          "name": "stdout",
          "text": [
            "\n",
            "======== Epoch 1 / 2 ========\n",
            "Total Batch 1497/1497 , elapsed time : 0.4s , train_loss : 0.75\n",
            "\n",
            "======== Epoch 2 / 2 ========\n",
            "Total Batch 1497/1497 , elapsed time : 0.4s , train_loss : 0.41\n"
          ]
        }
      ]
    },
    {
      "cell_type": "markdown",
      "metadata": {
        "id": "2lY0adlGiHIK"
      },
      "source": [
        "# Generation"
      ]
    },
    {
      "cell_type": "markdown",
      "metadata": {
        "id": "di4naD34AJtu"
      },
      "source": [
        "+ Generate(sets, max_length=150, no_repeat_ngram_size=3)"
      ]
    },
    {
      "cell_type": "code",
      "metadata": {
        "id": "kP23nx_TAJtv"
      },
      "source": [
        "# test data load\n",
        "test_data = KoBARTSummaryDataset(args['test_path'],tok=AutoTokenizer.from_pretrained(\"hyunwoongko/kobart\"),max_len=args['max_len'],infer=True)\n",
        "\n",
        "test_dataloader = DataLoader(test_data,\n",
        "                              batch_size=args['batch_size'], \n",
        "                              shuffle=False,\n",
        "                              num_workers=args['num_workers'], \n",
        "                              pin_memory=True)"
      ],
      "execution_count": 11,
      "outputs": []
    },
    {
      "cell_type": "code",
      "metadata": {
        "colab": {
          "base_uri": "https://localhost:8080/"
        },
        "id": "C8pXzkMtAJtv",
        "outputId": "3427f683-bd9b-427c-c82b-8fbf9c0e2eb9"
      },
      "source": [
        "# prediction\n",
        "test_sum=[]\n",
        "test_model=BartForConditionalGeneration.from_pretrained(os.path.join(args['weight_path'], \"kobart_title_evi_concat_final_epoch_2\")).to(device)\n",
        "\n",
        "for i,batch in tqdm(enumerate(test_dataloader)):\n",
        "  sets=batch['input_ids'].to(device)\n",
        "  batch_sum=test_model.generate(sets, max_length=150,no_repeat_ngram_size=3)\n",
        "  test_sum=[*test_sum,*batch_sum]"
      ],
      "execution_count": null,
      "outputs": [
        {
          "output_type": "stream",
          "name": "stderr",
          "text": [
            "127it [01:28,  1.43it/s]\n"
          ]
        }
      ]
    },
    {
      "cell_type": "code",
      "metadata": {
        "id": "WjteT5F6AJtv"
      },
      "source": [
        "test_sum_sent=[tokenizer.decode(g, skip_special_tokens=True, clean_up_tokenization_spaces=False) for g in test_sum]\n",
        "\n",
        "sub=pd.read_csv(data_path+'sample_submission.csv')\n",
        "sub['summary']=test_sum_sent"
      ],
      "execution_count": null,
      "outputs": []
    },
    {
      "cell_type": "code",
      "metadata": {
        "id": "owBHHHaY-0Z9"
      },
      "source": [
        "sub.to_csv('kobart_epoch2_final_g3.csv',index=False)"
      ],
      "execution_count": null,
      "outputs": []
    },
    {
      "cell_type": "markdown",
      "metadata": {
        "id": "8ZP9RQRGrCoe"
      },
      "source": [
        "# View Sub"
      ]
    },
    {
      "cell_type": "code",
      "metadata": {
        "id": "K0I0Luc_BVWq"
      },
      "source": [
        "sub=pd.read_csv(sub_path+'kobart_epoch2_final_g3.csv')\n",
        "test_real=pd.read_csv(data_path+'test_evi_final.csv')"
      ],
      "execution_count": 12,
      "outputs": []
    },
    {
      "cell_type": "code",
      "metadata": {
        "colab": {
          "base_uri": "https://localhost:8080/",
          "height": 201
        },
        "id": "PSz2pEt1nzsY",
        "outputId": "e01d1fb3-cec6-41d4-c642-e7b911bb295d"
      },
      "source": [
        "id=35\n",
        "print('Context:\\n')\n",
        "display(test_real['title_context'][id])\n",
        "\n",
        "print('\\nsummary:\\n')\n",
        "display(sub['summary'][id])"
      ],
      "execution_count": 18,
      "outputs": [
        {
          "output_type": "stream",
          "name": "stdout",
          "text": [
            "Context:\n",
            "\n"
          ]
        },
        {
          "output_type": "display_data",
          "data": {
            "application/vnd.google.colaboratory.intrinsic+json": {
              "type": "string"
            },
            "text/plain": [
              "'제76회 본회의 제1차: 의사일정 제1항 의장·부의장 선거를 상정합니다. 투표결과는 집계가 끝나는 대로 말씀드리도록 하겠습니다. (개 표) 투표결과를 발표하겠습니다. 총 투표수 9표 중에서 이준구 의원 6표, 김우식 의원 3표로 결정이 났습니다. 1차 투표에서 과반수 득표를 얻으신 이준구 의원이 지방자치법 제42조 제1항 음성군의회 회의규칙 제8조 제1항의 규정에 의하여 의장에 당선되었음을 선포합니다. 투표결과는 집계가 끝나는 대로 말씀드리도록 하겠습니다. 투표결과를 발표하겠습니다. 총 투표수 9표 중에서 고재협 의원이 7표, 무효투표 2표가 나왔습니다. 1차 투표에서 과반수 득표를 얻으신 고재협 의원이 지방자치법 제42조 제1항 및 음성군의회 회의규칙 제8조 제1항의 규정에 의하여 부의장에 당선되었음을 선포합니다.'"
            ]
          },
          "metadata": {}
        },
        {
          "output_type": "stream",
          "name": "stdout",
          "text": [
            "\n",
            "summary:\n",
            "\n"
          ]
        },
        {
          "output_type": "display_data",
          "data": {
            "application/vnd.google.colaboratory.intrinsic+json": {
              "type": "string"
            },
            "text/plain": [
              "'의장 선거는 총 9표 중에서 이준구 의원 6표, 김우식 의원 3표로 이준구 의원이 당선. 부의장 선거 투표는 총 8표 중에서 고재협 의원 7표, 무효표 2표로 고재협의 의원 당선.'"
            ]
          },
          "metadata": {}
        }
      ]
    },
    {
      "cell_type": "code",
      "metadata": {
        "colab": {
          "base_uri": "https://localhost:8080/",
          "height": 219
        },
        "id": "WuJsAT8WAsJi",
        "outputId": "57e566ac-b460-45a9-be42-3539a49719f2"
      },
      "source": [
        "id=3\n",
        "print('Context:\\n')\n",
        "display(test_real['title_context'][id])\n",
        "\n",
        "print('\\nsummary:\\n')\n",
        "display(sub['summary'][id])"
      ],
      "execution_count": 26,
      "outputs": [
        {
          "output_type": "stream",
          "name": "stdout",
          "text": [
            "Context:\n",
            "\n"
          ]
        },
        {
          "output_type": "display_data",
          "data": {
            "application/vnd.google.colaboratory.intrinsic+json": {
              "type": "string"
            },
            "text/plain": [
              "'제235회 본회의 제1차: 의사일정 제3항, 예산결산특별위원회 구성의 건을 상정합니다. 예산결산특별위원회 구성은 의원님들이 사전에 양해하여 주신 대로 제가 특별위원회 위원을 지명하도록 하겠습니다. 먼저 예산결산특별위원회 위원은 손수종 의원님, 이한철 의원님, 남궁유 의원님, 조천희 의원님, 손달섭 의원님, 이대웅 의원님, 김순옥 의원님으로 구성하고자 합니다. 그리고 본 특별위원회 운영기간은 6월 25일 하루 동안 운영하고자 하며, 2011년도 예비비 지출 승인안, 2011회계 세입ㆍ세출 결산 승인안, 2011년도 회계 기금운용 성과분석보고 등을 회부하여 의사일정에 따라 심사토록 하고자 합니다. 제가 제의한 예산결산특별위원회 구성안에 대하여 이의가 없으므로 가결되었음을 선포합니다.'"
            ]
          },
          "metadata": {}
        },
        {
          "output_type": "stream",
          "name": "stdout",
          "text": [
            "\n",
            "summary:\n",
            "\n"
          ]
        },
        {
          "output_type": "display_data",
          "data": {
            "application/vnd.google.colaboratory.intrinsic+json": {
              "type": "string"
            },
            "text/plain": [
              "'예산결산특별위원회 위원은 손수종 의원, 이한철 의원, 남궁유 의원, 조천희 의원, 손달섭 의원, 이대웅 의원, 김순옥 의원으로 구성함. 특별위원회는 6월 25일 하루동안 2011년도 예비비 지출 승인안과 2011회계 세입 세출 결산 승인안, 2011년도 회계 기금운용 성과분석보고 등을 의사일정에 따라 심사하고자 구성함'"
            ]
          },
          "metadata": {}
        }
      ]
    }
  ]
}