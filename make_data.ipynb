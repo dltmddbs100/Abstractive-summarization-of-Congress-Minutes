{
  "nbformat": 4,
  "nbformat_minor": 0,
  "metadata": {
    "colab": {
      "name": "make_data.ipynb",
      "provenance": [],
      "collapsed_sections": [],
      "mount_file_id": "1U8LVUWQBqoAi531KVxWNi1pt2-Us5Kus",
      "authorship_tag": "ABX9TyO37B0sx1e9rxxXyVxtTW8D"
    },
    "kernelspec": {
      "name": "python3",
      "display_name": "Python 3"
    },
    "language_info": {
      "name": "python"
    }
  },
  "cells": [
    {
      "cell_type": "code",
      "metadata": {
        "id": "1m_qvIaUI77B"
      },
      "source": [
        "import os\n",
        "import json\n",
        "\n",
        "import numpy as np\n",
        "import pandas as pd\n",
        "\n",
        "import re\n",
        "from utils import process_basic, process_detail, election, monetary\n",
        "\n",
        "from transformers import AutoTokenizer\n",
        "tokenizer=AutoTokenizer.from_pretrained(\"hyunwoongko/kobart\")"
      ],
      "execution_count": 34,
      "outputs": []
    },
    {
      "cell_type": "code",
      "metadata": {
        "id": "NTvRcuXRLLRh"
      },
      "source": [
        "data_path='/content/drive/MyDrive/Dacon/한국어 생성요약/data/235813_AI 기반 회의 녹취록 요약 경진대회_data/'\n",
        "model_path='/content/drive/MyDrive/Dacon/한국어 생성요약/LG_model/'\n",
        "sub_path='/content/drive/MyDrive/Dacon/한국어 생성요약/LG_sub/'"
      ],
      "execution_count": 30,
      "outputs": []
    },
    {
      "cell_type": "markdown",
      "metadata": {
        "id": "lhT9q0MRUc48"
      },
      "source": [
        "# Make train data"
      ]
    },
    {
      "cell_type": "code",
      "metadata": {
        "colab": {
          "base_uri": "https://localhost:8080/",
          "height": 206
        },
        "id": "Bia_B6w1K2Pt",
        "outputId": "6df1d776-2e37-47e7-c850-3762b663d401"
      },
      "source": [
        "train=pd.read_json(data_path+'train.json')\n",
        "train.head()"
      ],
      "execution_count": 31,
      "outputs": [
        {
          "output_type": "execute_result",
          "data": {
            "text/html": [
              "<div>\n",
              "<style scoped>\n",
              "    .dataframe tbody tr th:only-of-type {\n",
              "        vertical-align: middle;\n",
              "    }\n",
              "\n",
              "    .dataframe tbody tr th {\n",
              "        vertical-align: top;\n",
              "    }\n",
              "\n",
              "    .dataframe thead th {\n",
              "        text-align: right;\n",
              "    }\n",
              "</style>\n",
              "<table border=\"1\" class=\"dataframe\">\n",
              "  <thead>\n",
              "    <tr style=\"text-align: right;\">\n",
              "      <th></th>\n",
              "      <th>id</th>\n",
              "      <th>title</th>\n",
              "      <th>region</th>\n",
              "      <th>num_agenda</th>\n",
              "      <th>context</th>\n",
              "      <th>label</th>\n",
              "    </tr>\n",
              "  </thead>\n",
              "  <tbody>\n",
              "    <tr>\n",
              "      <th>0</th>\n",
              "      <td>1000</td>\n",
              "      <td>제207회 완주군의회(임시회) 제 1 차 본회의회의록</td>\n",
              "      <td>완주</td>\n",
              "      <td>4</td>\n",
              "      <td>{'AGENDA_1': {'0': '의석을 정돈하여 주시기 바랍니다. 성원이 되었으...</td>\n",
              "      <td>{'AGENDA_1': {'evidence': {'0': ['의석을 정돈하여 주시기...</td>\n",
              "    </tr>\n",
              "    <tr>\n",
              "      <th>1</th>\n",
              "      <td>1001</td>\n",
              "      <td>제251회 완주군의회(제1차 정례회) 제1차 본 회 의 회 의 록</td>\n",
              "      <td>완주</td>\n",
              "      <td>5</td>\n",
              "      <td>{'AGENDA_1': {'0': '의석을 정돈하여 주시기 바랍니다. 성원이 되었으...</td>\n",
              "      <td>{'AGENDA_1': {'evidence': {'0': ['의석을 정돈하여 주시기...</td>\n",
              "    </tr>\n",
              "    <tr>\n",
              "      <th>2</th>\n",
              "      <td>1002</td>\n",
              "      <td>제210회 완주군의회(임시회) 제 1 차 본회의회의록</td>\n",
              "      <td>완주</td>\n",
              "      <td>4</td>\n",
              "      <td>{'AGENDA_1': {'0': '의석을 정돈하여 주시기 바랍니다. 성원이 되었으...</td>\n",
              "      <td>{'AGENDA_1': {'evidence': {'0': ['의석을 정돈하여 주시기...</td>\n",
              "    </tr>\n",
              "    <tr>\n",
              "      <th>3</th>\n",
              "      <td>1003</td>\n",
              "      <td>제229회 완주군의회(임시회) 제1차 본 회 의 회 의 록</td>\n",
              "      <td>완주</td>\n",
              "      <td>4</td>\n",
              "      <td>{'AGENDA_1': {'0': '의석을 정돈하여 주시기 바랍니다. 성원이 되었으...</td>\n",
              "      <td>{'AGENDA_1': {'evidence': {'0': ['의석을 정돈하여 주시기...</td>\n",
              "    </tr>\n",
              "    <tr>\n",
              "      <th>4</th>\n",
              "      <td>1004</td>\n",
              "      <td>제178회        완주군의회(임시회) 제 1 차 본회의회의록</td>\n",
              "      <td>완주</td>\n",
              "      <td>4</td>\n",
              "      <td>{'AGENDA_1': {'0': '좌석을 정돈하여 주시기 바랍니다. 성원이 되었으...</td>\n",
              "      <td>{'AGENDA_1': {'evidence': {'0': ['좌석을 정돈하여 주시기...</td>\n",
              "    </tr>\n",
              "  </tbody>\n",
              "</table>\n",
              "</div>"
            ],
            "text/plain": [
              "     id  ...                                              label\n",
              "0  1000  ...  {'AGENDA_1': {'evidence': {'0': ['의석을 정돈하여 주시기...\n",
              "1  1001  ...  {'AGENDA_1': {'evidence': {'0': ['의석을 정돈하여 주시기...\n",
              "2  1002  ...  {'AGENDA_1': {'evidence': {'0': ['의석을 정돈하여 주시기...\n",
              "3  1003  ...  {'AGENDA_1': {'evidence': {'0': ['의석을 정돈하여 주시기...\n",
              "4  1004  ...  {'AGENDA_1': {'evidence': {'0': ['좌석을 정돈하여 주시기...\n",
              "\n",
              "[5 rows x 6 columns]"
            ]
          },
          "metadata": {},
          "execution_count": 31
        }
      ]
    },
    {
      "cell_type": "markdown",
      "metadata": {
        "id": "u6n_cpIKqBKu"
      },
      "source": [
        "## Title_context"
      ]
    },
    {
      "cell_type": "code",
      "metadata": {
        "id": "OEJcLwlwqVo5"
      },
      "source": [
        "# making title + context data\n",
        "real_id=[]\n",
        "for i in range(0,len(train)):\n",
        "  for j in range(1,train.iloc[i,3]+1):\n",
        "    real_id.append('id'+str(train['id'][i])+'-AGENDA_'+str(j))\n",
        "\n",
        "real_context=[]\n",
        "for i in range(0,len(train)):\n",
        "  for j in range(1,train.iloc[i,3]+1):\n",
        "    real_context.append(' '.join(list(train['context'][i][f'AGENDA_{j}'].values())))\n",
        "\n",
        "real_title=[]\n",
        "for i in range(0,len(train)):\n",
        "  for j in range(1,train.iloc[i,3]+1):\n",
        "    real_title.append(train['title'][i])\n",
        "\n",
        "real_label=[]\n",
        "for i in range(0,len(train)):\n",
        "  for j in range(1,train.iloc[i,3]+1):\n",
        "    real_label.append(train['label'][i][f'AGENDA_{j}']['summary'])"
      ],
      "execution_count": 32,
      "outputs": []
    },
    {
      "cell_type": "code",
      "metadata": {
        "id": "2jlWWP4WLpFv"
      },
      "source": [
        "train_real=pd.DataFrame({'id':real_id,'title':real_title,'context':real_context,'summary':real_label})\n",
        "\n",
        "train_real=process_basic(train_real,'context')\n",
        "train_real=process_detail(train_real,'context')\n",
        "\n",
        "train_real['title_context']=train_real['title']+': '+train_real['context']"
      ],
      "execution_count": 33,
      "outputs": []
    },
    {
      "cell_type": "code",
      "metadata": {
        "colab": {
          "base_uri": "https://localhost:8080/",
          "height": 243
        },
        "id": "wLKpiy32ri60",
        "outputId": "06f50c15-93bd-485f-e90c-5e8819f6c60c"
      },
      "source": [
        "# Special case preprocessing previously defined\n",
        "train_real=election(train_real, 'title_context')\n",
        "train_real=monetary(train_real, 'title_context',tokenizer)\n",
        "\n",
        "for i in range(len(train_real)):\n",
        "  train_real.at[i,'title_context']=re.sub(' +',' ',train_real['title_context'][i])\n",
        "\n",
        "train_real[['id','title_context','summary']].head()"
      ],
      "execution_count": 35,
      "outputs": [
        {
          "output_type": "stream",
          "name": "stderr",
          "text": [
            "/usr/local/lib/python3.7/dist-packages/pandas/core/strings.py:2001: UserWarning: This pattern has match groups. To actually get the groups, use str.extract.\n",
            "  return func(self, *args, **kwargs)\n"
          ]
        },
        {
          "output_type": "execute_result",
          "data": {
            "text/html": [
              "<div>\n",
              "<style scoped>\n",
              "    .dataframe tbody tr th:only-of-type {\n",
              "        vertical-align: middle;\n",
              "    }\n",
              "\n",
              "    .dataframe tbody tr th {\n",
              "        vertical-align: top;\n",
              "    }\n",
              "\n",
              "    .dataframe thead th {\n",
              "        text-align: right;\n",
              "    }\n",
              "</style>\n",
              "<table border=\"1\" class=\"dataframe\">\n",
              "  <thead>\n",
              "    <tr style=\"text-align: right;\">\n",
              "      <th></th>\n",
              "      <th>id</th>\n",
              "      <th>title_context</th>\n",
              "      <th>summary</th>\n",
              "    </tr>\n",
              "  </thead>\n",
              "  <tbody>\n",
              "    <tr>\n",
              "      <th>0</th>\n",
              "      <td>id1000-AGENDA_1</td>\n",
              "      <td>제207회 완주군의회(임시회) 제1차 본회의: 의석을 정돈하여 주시기 바랍니다. 성...</td>\n",
              "      <td>제207회 완주군의회 임시회 제1차 본회의 개의 선포.</td>\n",
              "    </tr>\n",
              "    <tr>\n",
              "      <th>1</th>\n",
              "      <td>id1000-AGENDA_2</td>\n",
              "      <td>제207회 완주군의회(임시회) 제1차 본회의: 먼저 의사일정 제1항 제207회 완주...</td>\n",
              "      <td>제207회 완주군의회 임시회 회기는 8월 26일부터 9월 4일까지 10일간으로 가결됨.</td>\n",
              "    </tr>\n",
              "    <tr>\n",
              "      <th>2</th>\n",
              "      <td>id1000-AGENDA_3</td>\n",
              "      <td>제207회 완주군의회(임시회) 제1차 본회의: 다음은 의사일정 제2항 제207회 완...</td>\n",
              "      <td>제207회 완주군의회 임시회 회의록 서명의원으로 최등원 의원과 박웅배 의원이 선출됨.</td>\n",
              "    </tr>\n",
              "    <tr>\n",
              "      <th>3</th>\n",
              "      <td>id1000-AGENDA_4</td>\n",
              "      <td>제207회 완주군의회(임시회) 제1차 본회의: 다음은 의사일정 제3항 본회의 휴회의...</td>\n",
              "      <td>8월 27일부터 9월 3일까지 8일간 휴회가 가결됨. 제2차 본회의는 9월 4일 오...</td>\n",
              "    </tr>\n",
              "    <tr>\n",
              "      <th>4</th>\n",
              "      <td>id1001-AGENDA_1</td>\n",
              "      <td>제251회 완주군의회(제1차 정례회) 제1차 본회의: 의석을 정돈하여 주시기 바랍니...</td>\n",
              "      <td>제251회 완주군의회 제1차 정례회 제1차 본회의 개의 선포.</td>\n",
              "    </tr>\n",
              "  </tbody>\n",
              "</table>\n",
              "</div>"
            ],
            "text/plain": [
              "                id  ...                                            summary\n",
              "0  id1000-AGENDA_1  ...                     제207회 완주군의회 임시회 제1차 본회의 개의 선포.\n",
              "1  id1000-AGENDA_2  ...   제207회 완주군의회 임시회 회기는 8월 26일부터 9월 4일까지 10일간으로 가결됨.\n",
              "2  id1000-AGENDA_3  ...    제207회 완주군의회 임시회 회의록 서명의원으로 최등원 의원과 박웅배 의원이 선출됨.\n",
              "3  id1000-AGENDA_4  ...  8월 27일부터 9월 3일까지 8일간 휴회가 가결됨. 제2차 본회의는 9월 4일 오...\n",
              "4  id1001-AGENDA_1  ...                 제251회 완주군의회 제1차 정례회 제1차 본회의 개의 선포.\n",
              "\n",
              "[5 rows x 3 columns]"
            ]
          },
          "metadata": {},
          "execution_count": 35
        }
      ]
    },
    {
      "cell_type": "code",
      "metadata": {
        "id": "XXRAoROk25NG"
      },
      "source": [
        "train_real.to_csv(data_path+'train_real_final.csv',index=False)"
      ],
      "execution_count": null,
      "outputs": []
    },
    {
      "cell_type": "markdown",
      "metadata": {
        "id": "5-37yiwBqWBL"
      },
      "source": [
        "## Evi_context"
      ]
    },
    {
      "cell_type": "code",
      "metadata": {
        "id": "pXLq7NDgPPMX"
      },
      "source": [
        "# making title + evidence text data\n",
        "# will be used for additional train data\n",
        "real_id=[]\n",
        "for i in range(0,len(train)):\n",
        "  for j in range(1,train.iloc[i,3]+1):\n",
        "    real_id.append('id'+str(train['id'][i])+'-AGENDA_'+str(j))\n",
        "\n",
        "real_title=[]\n",
        "for i in range(0,len(train)):\n",
        "  for j in range(1,train.iloc[i,3]+1):\n",
        "    real_title.append(train['title'][i])\n",
        "\n",
        "real_label=[]\n",
        "for i in range(0,len(train)):\n",
        "  for j in range(1,train.iloc[i,3]+1):\n",
        "    real_label.append(train['label'][i][f'AGENDA_{j}']['summary'])\n",
        "\n",
        "real_evi=[]\n",
        "for i in range(0,len(train)):\n",
        "  for j in range(1,train.iloc[i,3]+1):\n",
        "    real_evi.append(train['label'][i][f'AGENDA_{j}']['evidence'].values())\n",
        "\n",
        "real_num=[]\n",
        "for i in range(0,len(train)):\n",
        "  for j in range(1,train.iloc[i,3]+1):\n",
        "    real_num.append(train['label'][i][f'AGENDA_{j}']['evidence'].keys())"
      ],
      "execution_count": 36,
      "outputs": []
    },
    {
      "cell_type": "code",
      "metadata": {
        "id": "7aD7LYmj57ZC"
      },
      "source": [
        "evi_real=pd.DataFrame({'id':real_id,'title':real_title,'evidence':real_evi, 'evi_num':real_num,'summary':real_label})\n",
        "evi_real['evi_num']=evi_real['evi_num'].apply(len)"
      ],
      "execution_count": 40,
      "outputs": []
    },
    {
      "cell_type": "code",
      "metadata": {
        "id": "1-vk5w0bydTb"
      },
      "source": [
        "# link the evidence text to single paragraph\n",
        "evidence_text=[]\n",
        "\n",
        "for i in range(0,len(evi_real)):\n",
        "  l=[]\n",
        "  for j in range(0,evi_real['evi_num'][i]):\n",
        "    l.append(' '.join(list(evi_real['evidence'][i])[j]))\n",
        "    \n",
        "  evidence_text.append(' '.join(l))\n",
        "\n",
        "evi_real['evidence_text']=evidence_text\n",
        "evi_real=evi_real.drop(['evidence','evi_num'],axis=1)"
      ],
      "execution_count": 41,
      "outputs": []
    },
    {
      "cell_type": "code",
      "metadata": {
        "id": "lXw2n1VY6Fo6",
        "colab": {
          "base_uri": "https://localhost:8080/",
          "height": 206
        },
        "outputId": "37b28e6a-e78f-4c22-9831-e8188d576477"
      },
      "source": [
        "evi_real=process_basic(evi_real,'evidence_text')\n",
        "evi_real=process_detail(evi_real,'evidence_text')\n",
        "\n",
        "evi_real['title_evidencetext']=evi_real['title']+': '+evi_real['evidence_text']\n",
        "evi_real.columns=['id','title','summary','context','title_context']\n",
        "\n",
        "evi_real[['id','title_context','summary']].head()"
      ],
      "execution_count": 42,
      "outputs": [
        {
          "output_type": "execute_result",
          "data": {
            "text/html": [
              "<div>\n",
              "<style scoped>\n",
              "    .dataframe tbody tr th:only-of-type {\n",
              "        vertical-align: middle;\n",
              "    }\n",
              "\n",
              "    .dataframe tbody tr th {\n",
              "        vertical-align: top;\n",
              "    }\n",
              "\n",
              "    .dataframe thead th {\n",
              "        text-align: right;\n",
              "    }\n",
              "</style>\n",
              "<table border=\"1\" class=\"dataframe\">\n",
              "  <thead>\n",
              "    <tr style=\"text-align: right;\">\n",
              "      <th></th>\n",
              "      <th>id</th>\n",
              "      <th>title_context</th>\n",
              "      <th>summary</th>\n",
              "    </tr>\n",
              "  </thead>\n",
              "  <tbody>\n",
              "    <tr>\n",
              "      <th>0</th>\n",
              "      <td>id1000-AGENDA_1</td>\n",
              "      <td>제207회 완주군의회(임시회) 제1차 본회의: 의석을 정돈하여 주시기 바랍니다. 성...</td>\n",
              "      <td>제207회 완주군의회 임시회 제1차 본회의 개의 선포.</td>\n",
              "    </tr>\n",
              "    <tr>\n",
              "      <th>1</th>\n",
              "      <td>id1000-AGENDA_2</td>\n",
              "      <td>제207회 완주군의회(임시회) 제1차 본회의: 먼저 의사일정 제1항 제207회 완주...</td>\n",
              "      <td>제207회 완주군의회 임시회 회기는 8월 26일부터 9월 4일까지 10일간으로 가결됨.</td>\n",
              "    </tr>\n",
              "    <tr>\n",
              "      <th>2</th>\n",
              "      <td>id1000-AGENDA_3</td>\n",
              "      <td>제207회 완주군의회(임시회) 제1차 본회의: 다음은 의사일정 제2항 제207회 완...</td>\n",
              "      <td>제207회 완주군의회 임시회 회의록 서명의원으로 최등원 의원과 박웅배 의원이 선출됨.</td>\n",
              "    </tr>\n",
              "    <tr>\n",
              "      <th>3</th>\n",
              "      <td>id1000-AGENDA_4</td>\n",
              "      <td>제207회 완주군의회(임시회) 제1차 본회의: 다음은 의사일정 제3항 본회의 휴회의...</td>\n",
              "      <td>8월 27일부터 9월 3일까지 8일간 휴회가 가결됨. 제2차 본회의는 9월 4일 오...</td>\n",
              "    </tr>\n",
              "    <tr>\n",
              "      <th>4</th>\n",
              "      <td>id1001-AGENDA_1</td>\n",
              "      <td>제251회 완주군의회(제1차 정례회) 제1차 본회의: 의석을 정돈하여 주시기 바랍니...</td>\n",
              "      <td>제251회 완주군의회 제1차 정례회 제1차 본회의 개의 선포.</td>\n",
              "    </tr>\n",
              "  </tbody>\n",
              "</table>\n",
              "</div>"
            ],
            "text/plain": [
              "                id  ...                                            summary\n",
              "0  id1000-AGENDA_1  ...                     제207회 완주군의회 임시회 제1차 본회의 개의 선포.\n",
              "1  id1000-AGENDA_2  ...   제207회 완주군의회 임시회 회기는 8월 26일부터 9월 4일까지 10일간으로 가결됨.\n",
              "2  id1000-AGENDA_3  ...    제207회 완주군의회 임시회 회의록 서명의원으로 최등원 의원과 박웅배 의원이 선출됨.\n",
              "3  id1000-AGENDA_4  ...  8월 27일부터 9월 3일까지 8일간 휴회가 가결됨. 제2차 본회의는 9월 4일 오...\n",
              "4  id1001-AGENDA_1  ...                 제251회 완주군의회 제1차 정례회 제1차 본회의 개의 선포.\n",
              "\n",
              "[5 rows x 3 columns]"
            ]
          },
          "metadata": {},
          "execution_count": 42
        }
      ]
    },
    {
      "cell_type": "code",
      "metadata": {
        "id": "sPxWDDFUIcOC"
      },
      "source": [
        "# concat all train data\n",
        "train_real=pd.read_csv(data_path+'train_real_final.csv')\n",
        "train_evi_concat=pd.concat([train_real,evi_real]).reset_index(drop=True)\n",
        "\n",
        "train_evi_concat.to_csv(data_path+'train_evi_concat_final.csv',index=False)"
      ],
      "execution_count": null,
      "outputs": []
    },
    {
      "cell_type": "markdown",
      "source": [
        "# Make test data"
      ],
      "metadata": {
        "id": "8uvTvlezd3pX"
      }
    },
    {
      "cell_type": "code",
      "metadata": {
        "colab": {
          "base_uri": "https://localhost:8080/",
          "height": 206
        },
        "id": "LeDNdhFgikrr",
        "outputId": "e647a10a-d9d7-486b-c51e-ba66023a3aac"
      },
      "source": [
        "test=pd.read_json(data_path+'test.json')\n",
        "test.head()"
      ],
      "execution_count": 43,
      "outputs": [
        {
          "output_type": "execute_result",
          "data": {
            "text/html": [
              "<div>\n",
              "<style scoped>\n",
              "    .dataframe tbody tr th:only-of-type {\n",
              "        vertical-align: middle;\n",
              "    }\n",
              "\n",
              "    .dataframe tbody tr th {\n",
              "        vertical-align: top;\n",
              "    }\n",
              "\n",
              "    .dataframe thead th {\n",
              "        text-align: right;\n",
              "    }\n",
              "</style>\n",
              "<table border=\"1\" class=\"dataframe\">\n",
              "  <thead>\n",
              "    <tr style=\"text-align: right;\">\n",
              "      <th></th>\n",
              "      <th>id</th>\n",
              "      <th>title</th>\n",
              "      <th>region</th>\n",
              "      <th>num_agenda</th>\n",
              "      <th>context</th>\n",
              "    </tr>\n",
              "  </thead>\n",
              "  <tbody>\n",
              "    <tr>\n",
              "      <th>0</th>\n",
              "      <td>2000</td>\n",
              "      <td>제235회    본회의 제1차(2012.06.21.)</td>\n",
              "      <td>음성</td>\n",
              "      <td>6</td>\n",
              "      <td>{'AGENDA_1': {'0': '의석을 정돈하여 주시기 바랍니다.', '1': ...</td>\n",
              "    </tr>\n",
              "    <tr>\n",
              "      <th>1</th>\n",
              "      <td>2001</td>\n",
              "      <td>제322회    본회의 제1차(2020.04.22.)</td>\n",
              "      <td>음성</td>\n",
              "      <td>11</td>\n",
              "      <td>{'AGENDA_1': {'0': '의석을 정돈하여 주시기 바랍니다.', '1': ...</td>\n",
              "    </tr>\n",
              "    <tr>\n",
              "      <th>2</th>\n",
              "      <td>2002</td>\n",
              "      <td>제296회    본회의 제1차(2018.02.12.)</td>\n",
              "      <td>음성</td>\n",
              "      <td>13</td>\n",
              "      <td>{'AGENDA_1': {'0': '의석을 정돈하여 주시기 바랍니다.', '1': ...</td>\n",
              "    </tr>\n",
              "    <tr>\n",
              "      <th>3</th>\n",
              "      <td>2003</td>\n",
              "      <td>제72회 전라북도 완주군의회 (임시회) 제1호 본 회 의 회 의 록</td>\n",
              "      <td>완주</td>\n",
              "      <td>5</td>\n",
              "      <td>{'AGENDA_1': {'0': '좌석을 정돈하여 주시기 바랍니다. 성원이 되었으...</td>\n",
              "    </tr>\n",
              "    <tr>\n",
              "      <th>4</th>\n",
              "      <td>2004</td>\n",
              "      <td>제76회    본회의 제1차(1998.07.10.)</td>\n",
              "      <td>음성</td>\n",
              "      <td>4</td>\n",
              "      <td>{'AGENDA_1': {'0': '의사일정 제1항 의장·부의장 선거를 상정합니다....</td>\n",
              "    </tr>\n",
              "  </tbody>\n",
              "</table>\n",
              "</div>"
            ],
            "text/plain": [
              "     id  ...                                            context\n",
              "0  2000  ...  {'AGENDA_1': {'0': '의석을 정돈하여 주시기 바랍니다.', '1': ...\n",
              "1  2001  ...  {'AGENDA_1': {'0': '의석을 정돈하여 주시기 바랍니다.', '1': ...\n",
              "2  2002  ...  {'AGENDA_1': {'0': '의석을 정돈하여 주시기 바랍니다.', '1': ...\n",
              "3  2003  ...  {'AGENDA_1': {'0': '좌석을 정돈하여 주시기 바랍니다. 성원이 되었으...\n",
              "4  2004  ...  {'AGENDA_1': {'0': '의사일정 제1항 의장·부의장 선거를 상정합니다....\n",
              "\n",
              "[5 rows x 5 columns]"
            ]
          },
          "metadata": {},
          "execution_count": 43
        }
      ]
    },
    {
      "cell_type": "code",
      "metadata": {
        "id": "6M13Yaoiikrs"
      },
      "source": [
        "real_id=[]\n",
        "for i in range(0,len(test)):\n",
        "  for j in range(1,test.iloc[i,3]+1):\n",
        "    real_id.append('id_'+str(test['id'][i])+'-AGENDA_'+str(j))\n",
        "\n",
        "real_title=[]\n",
        "for i in range(0,len(test)):\n",
        "  for j in range(1,test.iloc[i,3]+1):\n",
        "    real_title.append(test['title'][i])\n",
        "\n",
        "real_context=[]\n",
        "for i in range(0,len(test)):\n",
        "  for j in range(1,test.iloc[i,3]+1):\n",
        "    real_context.append(' '.join(list(test['context'][i][f'AGENDA_{j}'].values())))"
      ],
      "execution_count": 44,
      "outputs": []
    },
    {
      "cell_type": "code",
      "metadata": {
        "id": "OX3EO9TDGlb6",
        "colab": {
          "base_uri": "https://localhost:8080/",
          "height": 243
        },
        "outputId": "4a6c6f9f-eccf-4649-a072-01d514107a31"
      },
      "source": [
        "test_real=pd.DataFrame({'id':real_id,'title':real_title,'context':real_context})\n",
        "\n",
        "test_real=process_basic(test_real,'context')\n",
        "test_real=process_detail(test_real,'context')\n",
        "\n",
        "test_real['title_context']=test_real['title']+': '+test_real['context']\n",
        "\n",
        "test_real=election(test_real, 'title_context')\n",
        "test_real=monetary(test_real, 'title_context', tokenizer)\n",
        "\n",
        "test_real[['id','title_context']].head()"
      ],
      "execution_count": 46,
      "outputs": [
        {
          "output_type": "stream",
          "name": "stderr",
          "text": [
            "/usr/local/lib/python3.7/dist-packages/pandas/core/strings.py:2001: UserWarning: This pattern has match groups. To actually get the groups, use str.extract.\n",
            "  return func(self, *args, **kwargs)\n"
          ]
        },
        {
          "output_type": "execute_result",
          "data": {
            "text/html": [
              "<div>\n",
              "<style scoped>\n",
              "    .dataframe tbody tr th:only-of-type {\n",
              "        vertical-align: middle;\n",
              "    }\n",
              "\n",
              "    .dataframe tbody tr th {\n",
              "        vertical-align: top;\n",
              "    }\n",
              "\n",
              "    .dataframe thead th {\n",
              "        text-align: right;\n",
              "    }\n",
              "</style>\n",
              "<table border=\"1\" class=\"dataframe\">\n",
              "  <thead>\n",
              "    <tr style=\"text-align: right;\">\n",
              "      <th></th>\n",
              "      <th>id</th>\n",
              "      <th>title_context</th>\n",
              "    </tr>\n",
              "  </thead>\n",
              "  <tbody>\n",
              "    <tr>\n",
              "      <th>0</th>\n",
              "      <td>id_2000-AGENDA_1</td>\n",
              "      <td>제235회 본회의 제1차: 의석을 정돈하여 주시기 바랍니다. 성원이 되었으므로 지금...</td>\n",
              "    </tr>\n",
              "    <tr>\n",
              "      <th>1</th>\n",
              "      <td>id_2000-AGENDA_2</td>\n",
              "      <td>제235회 본회의 제1차: 의사일정 제1항, 음성군의회 제235회 제1차 정례회 회...</td>\n",
              "    </tr>\n",
              "    <tr>\n",
              "      <th>2</th>\n",
              "      <td>id_2000-AGENDA_3</td>\n",
              "      <td>제235회 본회의 제1차: 의사일정 제2항, 회의록 서명의원 선출의 건을 상정합니다...</td>\n",
              "    </tr>\n",
              "    <tr>\n",
              "      <th>3</th>\n",
              "      <td>id_2000-AGENDA_4</td>\n",
              "      <td>제235회 본회의 제1차: 의사일정 제3항, 예산결산특별위원회 구성의 건을 상정합니...</td>\n",
              "    </tr>\n",
              "    <tr>\n",
              "      <th>4</th>\n",
              "      <td>id_2000-AGENDA_5</td>\n",
              "      <td>제235회 본회의 제1차: 의사일정 제4항, 환경분야 현지확인 특별위원회 구성결의안...</td>\n",
              "    </tr>\n",
              "  </tbody>\n",
              "</table>\n",
              "</div>"
            ],
            "text/plain": [
              "                 id                                      title_context\n",
              "0  id_2000-AGENDA_1  제235회 본회의 제1차: 의석을 정돈하여 주시기 바랍니다. 성원이 되었으므로 지금...\n",
              "1  id_2000-AGENDA_2  제235회 본회의 제1차: 의사일정 제1항, 음성군의회 제235회 제1차 정례회 회...\n",
              "2  id_2000-AGENDA_3  제235회 본회의 제1차: 의사일정 제2항, 회의록 서명의원 선출의 건을 상정합니다...\n",
              "3  id_2000-AGENDA_4  제235회 본회의 제1차: 의사일정 제3항, 예산결산특별위원회 구성의 건을 상정합니...\n",
              "4  id_2000-AGENDA_5  제235회 본회의 제1차: 의사일정 제4항, 환경분야 현지확인 특별위원회 구성결의안..."
            ]
          },
          "metadata": {},
          "execution_count": 46
        }
      ]
    },
    {
      "cell_type": "code",
      "metadata": {
        "id": "IR9CSVOijtJr"
      },
      "source": [
        "test_real.to_csv(data_path+'test_evi_final.csv',index=False)"
      ],
      "execution_count": null,
      "outputs": []
    }
  ]
}